{
 "cells": [
  {
   "cell_type": "code",
   "execution_count": 5,
   "metadata": {},
   "outputs": [],
   "source": [
    "from Algorithms.Z_algorithm import get_matches as Z\n",
    "from Algorithms.manacher import manacher as M\n",
    "\n",
    "import os"
   ]
  },
  {
   "cell_type": "code",
   "execution_count": 67,
   "metadata": {},
   "outputs": [],
   "source": [
    "def leer_archivo_formato1(file_path):\n",
    "    with open(file_path, 'r') as file:\n",
    "        lines = file.readlines()\n",
    "    metadata = lines[0].strip()\n",
    "    sequence = ''.join(line.strip() for line in lines[1:])  \n",
    "    return metadata, sequence\n",
    "\n",
    "def leer_archivos_de_directorio(directory, formato):\n",
    "    sequences = []\n",
    "    for filename in os.listdir(directory):\n",
    "        if filename.endswith('.txt'):  \n",
    "            file_path = os.path.join(directory, filename)\n",
    "            if formato == 1:\n",
    "                metadata, sequence = leer_archivo_formato1(file_path)\n",
    "            elif formato == 2:\n",
    "                print(\"En produccion\")\n",
    "                ###### --------------------\n",
    "                ## Por programar\n",
    "            sequences.append([filename, metadata, sequence])\n",
    "    return sequences\n",
    "\n",
    "path_genes = 'genes'\n",
    "path_viruses = 'viruses'\n",
    "path_proteinas = 'proteinas'\n",
    "\n",
    "lista_genes = leer_archivos_de_directorio(path_genes, 1)\n",
    "lista_viruses = leer_archivos_de_directorio(path_viruses, 1)\n",
    "\n",
    "file = 0\n",
    "metadata = 1\n",
    "secuencia = 2\n",
    "palindromo = 3\n",
    "\n",
    "\n",
    "# Agrega los viruses a cada gen\n",
    "agregar_palindromo = True\n",
    "for virus in lista_viruses:\n",
    "    for gen in lista_genes:\n",
    "        if agregar_palindromo and palindromo not in gen:\n",
    "            gen.append(M(gen[secuencia]))  # Agrega cada palindromo una sola vez\n",
    "        virus_data = [virus[file]]  # Agrega el nombre del virus\n",
    "        # Y los indices donde sale el gen en dicho virus\n",
    "        virus_data.append(Z(gen[secuencia], virus[secuencia]))  \n",
    "        gen.append(virus_data)  # Agrega el data al gen\n",
    "    agregar_palindromo = False  \n"
   ]
  },
  {
   "cell_type": "code",
   "execution_count": 66,
   "metadata": {},
   "outputs": [
    {
     "name": "stdout",
     "output_type": "stream",
     "text": [
      "gen-M.txt\n",
      "Sale en el virus SARS-COV-2-MN908947.3.txt en el indice [26522]\n",
      "Sale en el virus SARS-COV-2-MT106054.1.txt en el indice [26522]\n",
      "Primeros 12 chars: ATGGCAGATTCC\n",
      "Palindromo mas largo CTAAAGAAATC\n",
      "\n",
      "gen-ORF1AB.txt\n",
      "Sale en el virus SARS-COV-2-MN908947.3.txt en el indice [265]\n",
      "No se encuentra en el virus\n",
      "Primeros 12 chars: ATGGAGAGCCTT\n",
      "Palindromo mas largo CTCAATGACTTCAGTAACTC\n",
      "\n",
      "gen-S.txt\n",
      "Sale en el virus SARS-COV-2-MN908947.3.txt en el indice [21562]\n",
      "Sale en el virus SARS-COV-2-MT106054.1.txt en el indice [21562]\n",
      "Primeros 12 chars: ATGTTTGTTTTT\n",
      "Palindromo mas largo ATTTTGGTGGTTTTA\n",
      "\n"
     ]
    }
   ],
   "source": [
    "# Agrega en donde aparece el gen en cada virus y agrega su palindromo mas largo\n",
    "for gen in lista_genes:\n",
    "    print(gen[file])\n",
    "    num_virus = len(lista_viruses) \n",
    "    for virus in range(4, 4 + num_virus):\n",
    "        if len(gen[virus][1]) > 0:\n",
    "            print(\"Sale en el virus\",gen[virus][file], \"en el indice\", gen[virus][1]) # [virus, indices]\n",
    "        else:\n",
    "            print(\"No se encuentra en el virus\")\n",
    "    chars = gen[secuencia][:12]\n",
    "    print(\"Primeros 12 chars:\", chars)\n",
    "    print(\"Palindromo mas largo\",gen[palindromo])\n",
    "    print()"
   ]
  }
 ],
 "metadata": {
  "kernelspec": {
   "display_name": "base",
   "language": "python",
   "name": "python3"
  },
  "language_info": {
   "codemirror_mode": {
    "name": "ipython",
    "version": 3
   },
   "file_extension": ".py",
   "mimetype": "text/x-python",
   "name": "python",
   "nbconvert_exporter": "python",
   "pygments_lexer": "ipython3",
   "version": "3.12.4"
  }
 },
 "nbformat": 4,
 "nbformat_minor": 2
}
